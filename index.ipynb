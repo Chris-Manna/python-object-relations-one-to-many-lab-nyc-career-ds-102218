{
 "cells": [
  {
   "cell_type": "markdown",
   "metadata": {},
   "source": [
    "# Python Object Relationships - One to Many"
   ]
  },
  {
   "cell_type": "markdown",
   "metadata": {},
   "source": [
    "## Introduction\n",
    "In this lab we are going to practice creating a one to many relationship. We've learned how a belongs to relationship works -- with the \"belongs to\" class knowing the one instance it is associated with. Now, what if we think about it from the other side? Let's say we are talking about a `Person` class and a `Dog` class. We know the `Dog` belongs to one `Person`, but that doesn't mean the person can't have more than one dog, right?"
   ]
  },
  {
   "cell_type": "markdown",
   "metadata": {},
   "source": [
    "![dog gif](https://s3.amazonaws.com/learn-verified/data-science-assets/two-dogs.gif)"
   ]
  },
  {
   "cell_type": "markdown",
   "metadata": {},
   "source": [
    "So, a dog still needs to know who its owner is, but now we know that an owner can also have **many** dogs. Let's get started!"
   ]
  },
  {
   "cell_type": "markdown",
   "metadata": {},
   "source": [
    "## Objectives\n",
    "* Create a one to many domain model\n",
    "* Practice querying an instance to demonstrate the one to many relationship\n",
    "* Define a second one to many domain and create instance methods that again demonstrate the one to many relationship"
   ]
  },
  {
   "cell_type": "markdown",
   "metadata": {},
   "source": [
    "## Defining Our Classes"
   ]
  },
  {
   "cell_type": "markdown",
   "metadata": {},
   "source": [
    "Let's start by defining two classes, `Owner` and `Car`. \n",
    "* An owner should be instantiated with a `name` and an `age`. \n",
    "* A car should be instantiated with a `make`, `model`, and `year`. \n",
    "* The relationship between the two classes should be such that an owner has many cars and a car belongs to an owner. It is our job to make sure our classes and instances are set up to show this. \n",
    "* Think about which class(es) also must have an `_all` class variable, and be sure to have setter and getter (read and write) instance methods for each attribute for an owner and for a car as well as a class method that returns the `_all` list."
   ]
  },
  {
   "cell_type": "code",
   "execution_count": 31,
   "metadata": {},
   "outputs": [],
   "source": [
    "# from owner import Owner\n",
    "class Owner():\n",
    "    _all = []\n",
    "    def __init__(self, name, age):\n",
    "        self._name = name\n",
    "        self._age = age\n",
    "        Owner._all.append(self)\n",
    "    \n",
    "    @property\n",
    "    def name(self):\n",
    "        return self._name\n",
    "    @property\n",
    "    def age(self):\n",
    "        return self._age\n",
    "    @age.setter\n",
    "    def age(self,new_age):\n",
    "        self._age = new_age\n",
    "\n",
    "    @classmethod\n",
    "    def all(cls):\n",
    "        return cls._all\n",
    "    \n",
    "    def find_my_cars(self):\n",
    "        all_cars = Car.all()\n",
    "        cars_owned_by_self = []\n",
    "        for car in all_cars:\n",
    "            if self == car.owner:\n",
    "                cars_owned_by_self.append(car.make + \" \" + car.model)\n",
    "        return cars_owned_by_self\n",
    "\n",
    "jake = Owner(\"Jake\", 25)\n",
    "jess = Owner(\"Jess\", 29)\n",
    "alexa = Owner(\"Alexa\", 33)\n",
    "pete = Owner(\"Pete\", 30)\n",
    "\n",
    "# Owner.all()"
   ]
  },
  {
   "cell_type": "code",
   "execution_count": 35,
   "metadata": {},
   "outputs": [],
   "source": [
    "# from car import Car\n",
    "class Car():\n",
    "    _all = []\n",
    "    def __init__(self, make, model, year, owner):\n",
    "        self._make = make\n",
    "        self._model = model\n",
    "        self._year = year\n",
    "        self._owner = owner\n",
    "        Car._all.append(self)\n",
    "    \n",
    "    @property\n",
    "    def make(self):\n",
    "        return self._make\n",
    "    \n",
    "    @property\n",
    "    def model(self):\n",
    "        return self._model\n",
    "\n",
    "    @property\n",
    "    def year(self):\n",
    "        return self._year\n",
    "    \n",
    "    @property\n",
    "    def owner(self):\n",
    "        return self._owner\n",
    "    \n",
    "    @classmethod\n",
    "    def all(cls):\n",
    "        return cls._all\n",
    "\n",
    "toy_cam_2018 = Car(\"Toyota\", \"Camry\", 2018, jake)\n",
    "honda_civic_2018 = Car(\"Honda\", \"Civic\", 2018, jess)\n",
    "kia_soul_2018 = Car(\"Kia\", \"Soul\", 2018, alexa)\n",
    "lexus_rx_2018 = Car(\"Lexus\", \"RX\", 2018, alexa)\n",
    "jeep_rangler_2018 = Car(\"Jeep\", \"Wrangler\", 2018, pete)\n",
    "volkswagen_golf_2018 = Car(\"Volkswagen\", \"Golf\", 2018, pete)\n",
    "\n",
    "# print(Car.all())\n",
    "\n",
    "# create several instances of the Car class \n",
    "# and associate them to owners. \n",
    "# remember owners can have more than one car associated with\n",
    "# them, but a car can only have one owner"
   ]
  },
  {
   "cell_type": "markdown",
   "metadata": {},
   "source": [
    "## Querying For Our Cars"
   ]
  },
  {
   "cell_type": "markdown",
   "metadata": {},
   "source": [
    "Okay, now that we have our classes set up, let's stat to work with them. Let's say Alexa and Pete both have several cars and it has gotten to the point that they are forgetting about some of them -- like when winter is over and you're re-discovering the bathing suits you stuffed into the abyss of your closet. Yes, Alexa and Pete are doing well for themselves.\n",
    "Since we don't want them to lose track of their cars, let's write an instance method that prints out the makes and models of each car that they own, respectively. Let's call this method `find_my_cars`. It should return a list of strings which are the name of the car's make concatenated with the car's model. (i.e. `[\"Toyota Highlander\", \"Audi Q7\", \"Jeep Wrangler\"]`)"
   ]
  },
  {
   "cell_type": "code",
   "execution_count": 36,
   "metadata": {},
   "outputs": [
    {
     "data": {
      "text/plain": [
       "['Kia Soul', 'Lexus RX']"
      ]
     },
     "execution_count": 36,
     "metadata": {},
     "output_type": "execute_result"
    }
   ],
   "source": [
    "alexa.find_my_cars()"
   ]
  },
  {
   "cell_type": "code",
   "execution_count": 37,
   "metadata": {},
   "outputs": [
    {
     "data": {
      "text/plain": [
       "['Jeep Wrangler', 'Volkswagen Golf']"
      ]
     },
     "execution_count": 37,
     "metadata": {},
     "output_type": "execute_result"
    }
   ],
   "source": [
    "pete.find_my_cars()"
   ]
  },
  {
   "cell_type": "markdown",
   "metadata": {},
   "source": [
    "Great work! Now, let's try this out with another domain to get even more practice. Let's work with a `Driver` and a `Trip` class. \n",
    "* The relationship between the two should be that a driver has many trips and that a trip belongs to one driver. \n",
    "* A driver should be instantiated with at least a *name* and a trip should be instantiated with at least a start and a destination (i.e. `battery park` to `central park`). \n",
    "* Remember a trip should know which **driver** it belongs to and the Trip class should keep track of all trip instances in the `_all` class variable. \n",
    "* Define the appropriate getter and setter instance methods for both the driver and trip instance objects as well as a class method, `all`, that returns the `_all` list. "
   ]
  },
  {
   "cell_type": "code",
   "execution_count": 65,
   "metadata": {},
   "outputs": [],
   "source": [
    "# from driver import Driver\n",
    "class Driver():\n",
    "    _all = []\n",
    "    def __init__(self, name):\n",
    "        self._name = name\n",
    "        Driver._all.append(self)\n",
    "    \n",
    "    @property\n",
    "    def name(self):\n",
    "        return self._name\n",
    "    \n",
    "    @property\n",
    "    def my_trips(self):\n",
    "        # get all trips \n",
    "        # find which trip is associated with which driver\n",
    "        trips = Trip.all()\n",
    "        driver_trips = []\n",
    "        for trip in trips:\n",
    "            if self == trip.driver:\n",
    "                driver_trips.append(trip)\n",
    "        return driver_trips[0].start\n",
    "    \n",
    "#     @property\n",
    "#     def my_trip_summaries(self):\n",
    "#         trips = self.my_trips\n",
    "#         trip_summary = []\n",
    "#         for trip in trips:\n",
    "#             trip\n",
    "    \n",
    "    @classmethod\n",
    "    def all(cls):\n",
    "        return cls._all\n",
    "\n",
    "steve = Driver(\"Steve\")\n",
    "danielle = Driver(\"Danielle\")\n",
    "hortense = Driver(\"Hortense\")\n"
   ]
  },
  {
   "cell_type": "code",
   "execution_count": 66,
   "metadata": {},
   "outputs": [
    {
     "name": "stdout",
     "output_type": "stream",
     "text": [
      "[<__main__.Trip object at 0x7f2df0113c18>, <__main__.Trip object at 0x7f2df0113c88>, <__main__.Trip object at 0x7f2df0113ba8>]\n"
     ]
    }
   ],
   "source": [
    "# from trip import Trip\n",
    "# create several instances of the Trip class \n",
    "# and associate them to drivers. \n",
    "# remember to associate a trip with a driver\n",
    "\n",
    "class Trip():\n",
    "    _all = []\n",
    "    def __init__(self, start, destination, driver):\n",
    "        self._start = start\n",
    "        self._destination = destination\n",
    "        self._driver = driver\n",
    "        Trip._all.append(self)\n",
    "    \n",
    "    @property\n",
    "    def driver(self):\n",
    "        return self._driver\n",
    "    \n",
    "    @property\n",
    "    def start(self):\n",
    "        return self._start\n",
    "    \n",
    "    \n",
    "    @classmethod\n",
    "    def all(cls):\n",
    "        return cls._all\n",
    "\n",
    "trip1 = Trip(\"Battery Park\", \"Lincoln Center\", steve)\n",
    "trip2 = Trip(\"Franklin Lakes\", \"Columbia University\", danielle)\n",
    "trip3 = Trip(\"Miami\",\"San Francisco\", hortense)\n",
    "\n",
    "print(Trip.all())"
   ]
  },
  {
   "cell_type": "markdown",
   "metadata": {},
   "source": [
    "Next, define a driver instance method that returns all the trips instance objects that a driver has given, let's call it `my_trips`. Then define an instance method that returns a list of strings that represent the trips start and end locations for each of those trips (i.e. `[home to work, work to movies]`). Let's call it `my_trip_summaries`."
   ]
  },
  {
   "cell_type": "code",
   "execution_count": 67,
   "metadata": {},
   "outputs": [
    {
     "ename": "AttributeError",
     "evalue": "'Trip' object has no attribute 'start'",
     "output_type": "error",
     "traceback": [
      "\u001b[0;31m\u001b[0m",
      "\u001b[0;31mAttributeError\u001b[0mTraceback (most recent call last)",
      "\u001b[0;32m<ipython-input-67-cea34c2a8c40>\u001b[0m in \u001b[0;36m<module>\u001b[0;34m()\u001b[0m\n\u001b[0;32m----> 1\u001b[0;31m \u001b[0mhortense\u001b[0m\u001b[0;34m.\u001b[0m\u001b[0mmy_trips\u001b[0m\u001b[0;34m\u001b[0m\u001b[0m\n\u001b[0m",
      "\u001b[0;32m<ipython-input-65-38c1a2ebab3e>\u001b[0m in \u001b[0;36mmy_trips\u001b[0;34m(self)\u001b[0m\n\u001b[1;32m     19\u001b[0m             \u001b[0;32mif\u001b[0m \u001b[0mself\u001b[0m \u001b[0;34m==\u001b[0m \u001b[0mtrip\u001b[0m\u001b[0;34m.\u001b[0m\u001b[0mdriver\u001b[0m\u001b[0;34m:\u001b[0m\u001b[0;34m\u001b[0m\u001b[0m\n\u001b[1;32m     20\u001b[0m                 \u001b[0mdriver_trips\u001b[0m\u001b[0;34m.\u001b[0m\u001b[0mappend\u001b[0m\u001b[0;34m(\u001b[0m\u001b[0mtrip\u001b[0m\u001b[0;34m)\u001b[0m\u001b[0;34m\u001b[0m\u001b[0m\n\u001b[0;32m---> 21\u001b[0;31m         \u001b[0;32mreturn\u001b[0m \u001b[0mdriver_trips\u001b[0m\u001b[0;34m[\u001b[0m\u001b[0;36m0\u001b[0m\u001b[0;34m]\u001b[0m\u001b[0;34m.\u001b[0m\u001b[0mstart\u001b[0m\u001b[0;34m\u001b[0m\u001b[0m\n\u001b[0m\u001b[1;32m     22\u001b[0m \u001b[0;34m\u001b[0m\u001b[0m\n\u001b[1;32m     23\u001b[0m \u001b[0;31m#     @property\u001b[0m\u001b[0;34m\u001b[0m\u001b[0;34m\u001b[0m\u001b[0m\n",
      "\u001b[0;31mAttributeError\u001b[0m: 'Trip' object has no attribute 'start'"
     ]
    }
   ],
   "source": [
    "hortense.my_trips"
   ]
  },
  {
   "cell_type": "code",
   "execution_count": null,
   "metadata": {},
   "outputs": [],
   "source": [
    "danielle.my_trips()"
   ]
  },
  {
   "cell_type": "code",
   "execution_count": null,
   "metadata": {},
   "outputs": [],
   "source": [
    "steve.my_trip_summaries()"
   ]
  },
  {
   "cell_type": "markdown",
   "metadata": {},
   "source": [
    "## Summary\n",
    "Great work! In this lab we practiced creating one to many relationships. We built on the belongs to relationship and were able to make it a bit more interesting by associating more than one instance object with another. We reinforced our knowledge by building out two different one to many domains and built intance methods that returned and operated on the one to many relationships. "
   ]
  }
 ],
 "metadata": {
  "kernelspec": {
   "display_name": "Python 3",
   "language": "python",
   "name": "python3"
  },
  "language_info": {
   "codemirror_mode": {
    "name": "ipython",
    "version": 3
   },
   "file_extension": ".py",
   "mimetype": "text/x-python",
   "name": "python",
   "nbconvert_exporter": "python",
   "pygments_lexer": "ipython3",
   "version": "3.6.6"
  }
 },
 "nbformat": 4,
 "nbformat_minor": 2
}
